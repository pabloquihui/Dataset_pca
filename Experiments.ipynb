{
 "cells": [
  {
   "cell_type": "markdown",
   "metadata": {
    "id": "J5P7MvjZe0xq"
   },
   "source": [
    "## Libraries"
   ]
  },
  {
   "cell_type": "code",
   "execution_count": 2,
   "metadata": {
    "gather": {
     "logged": 1667880040755
    },
    "id": "LI_XRK4ta24w"
   },
   "outputs": [
    {
     "name": "stdout",
     "output_type": "stream",
     "text": [
      "Segmentation Models: using `keras` framework.\n"
     ]
    }
   ],
   "source": [
    "import os\n",
    "# from keras_unet_collection import models, utils\n",
    "import tensorflow as tf\n",
    "import cv2\n",
    "import keras\n",
    "import segmentation_models as sm\n",
    "import numpy as np\n",
    "import matplotlib.pyplot as plt\n",
    "import gdown\n",
    "import datetime\n",
    "from sklearn.model_selection import StratifiedKFold\n",
    "import pandas as pd\n",
    "import requests\n",
    "# Notifications config:\n",
    "url_notif = r'https://api.pushcut.io/nijldnK5Ud5uQXRJI0v_G/notifications/Training%20ended'\n",
    "AUTOTUNE = tf.data.experimental.AUTOTUNE"
   ]
  },
  {
   "cell_type": "code",
   "execution_count": 3,
   "metadata": {
    "colab": {
     "base_uri": "https://localhost:8080/",
     "height": 35
    },
    "gather": {
     "logged": 1667880044572
    },
    "id": "-W1HmnMUddHg",
    "outputId": "a117051e-71bc-496d-9a4f-d5c4a7b086ac"
   },
   "outputs": [
    {
     "data": {
      "text/plain": [
       "'2.10.0'"
      ]
     },
     "execution_count": 3,
     "metadata": {},
     "output_type": "execute_result"
    }
   ],
   "source": [
    "tf.__version__"
   ]
  },
  {
   "cell_type": "code",
   "execution_count": 24,
   "metadata": {},
   "outputs": [
    {
     "name": "stdout",
     "output_type": "stream",
     "text": [
      "[0.01079666 0.7355445  0.8303529 ]\n",
      "[0.01101765 0.72712053 0.8226809 ]\n"
     ]
    }
   ],
   "source": [
    "import numpy as np\n",
    "fold_att = np.load('kfold/Final_ablation/attn_unet_orig.npy')\n",
    "fold_unet = np.load('kfold/Final_ablation/attn_unet_aug4.npy')\n",
    "# fold_aug2 = np.load('kfold/unet_5fold_bright_contr.npy')\n",
    "\n",
    "print(np.mean(fold_att, axis=0))\n",
    "print(np.mean(fold_unet, axis=0))\n",
    "# print(np.mean(fold_aug, axis=0))\n",
    "# print(np.mean(fold_aug2, axis=0))\n",
    "# print(fold_aug2)"
   ]
  },
  {
   "cell_type": "code",
   "execution_count": 25,
   "metadata": {},
   "outputs": [
    {
     "name": "stdout",
     "output_type": "stream",
     "text": [
      "[[0.01474193 0.56980455 0.610897  ]\n",
      " [0.01225657 0.7444942  0.83405775]\n",
      " [0.01414623 0.7623601  0.84915298]\n",
      " [0.014622   0.75875348 0.84704018]]\n"
     ]
    }
   ],
   "source": [
    "uq_results = np.load('Uncertainty_comparison/Uncertainty_comparison.npy')\n",
    "print(uq_results)"
   ]
  },
  {
   "cell_type": "markdown",
   "metadata": {
    "id": "U9GHi1xVd-mB"
   },
   "source": [
    "## Dataset"
   ]
  },
  {
   "cell_type": "code",
   "execution_count": 4,
   "metadata": {
    "gather": {
     "logged": 1667880047006
    }
   },
   "outputs": [],
   "source": [
    "import os\n",
    "main = os.getcwd()"
   ]
  },
  {
   "cell_type": "code",
   "execution_count": 16,
   "metadata": {
    "gather": {
     "logged": 1667880048352
    },
    "id": "m7JlutNqcSiW"
   },
   "outputs": [],
   "source": [
    "test = tf.data.Dataset.load(main+'/test_ds/')"
   ]
  },
  {
   "cell_type": "code",
   "execution_count": 17,
   "metadata": {},
   "outputs": [
    {
     "data": {
      "text/plain": [
       "31"
      ]
     },
     "execution_count": 17,
     "metadata": {},
     "output_type": "execute_result"
    }
   ],
   "source": [
    "test_len = len(test)\n",
    "test_len"
   ]
  },
  {
   "cell_type": "code",
   "execution_count": 18,
   "metadata": {},
   "outputs": [],
   "source": [
    "IMG_W = 256\n",
    "IMG_H = 256\n",
    "IMG_CH = 1\n",
    "N_CLASSES = 5\n",
    "\n",
    "def process(data):  \n",
    "    img = data[0]\n",
    "    msk = data[1]\n",
    "    # img = tf.math.l2_normalize(img, axis=0)\n",
    "    img = img/255\n",
    "\n",
    "    msk = tf.squeeze(msk)\n",
    "    msk = tf.cast(msk, tf.int32)\n",
    "    msk = tf.one_hot(indices=msk, depth=N_CLASSES, axis=-1)\n",
    "\n",
    "    img.set_shape([256,256,1])\n",
    "    msk.set_shape([256,256,5])\n",
    "    \n",
    "    return img, msk"
   ]
  },
  {
   "cell_type": "code",
   "execution_count": 19,
   "metadata": {},
   "outputs": [],
   "source": [
    "AUTOTUNE = tf.data.experimental.AUTOTUNE\n",
    "test = test.map(process, num_parallel_calls=AUTOTUNE)"
   ]
  },
  {
   "cell_type": "code",
   "execution_count": 20,
   "metadata": {},
   "outputs": [],
   "source": [
    "BATCH_SIZE = 1\n",
    "\n",
    "test = test.cache()\n",
    "test = test.batch(BATCH_SIZE)\n",
    "# test = test.prefetch(AUTOTUNE)"
   ]
  },
  {
   "cell_type": "markdown",
   "metadata": {
    "id": "3VHB66jieEEn"
   },
   "source": [
    "## Model"
   ]
  },
  {
   "cell_type": "markdown",
   "metadata": {},
   "source": [
    "### Parameters"
   ]
  },
  {
   "cell_type": "code",
   "execution_count": 21,
   "metadata": {},
   "outputs": [],
   "source": [
    "LR = 0.0001\n",
    "EPOCHS = 100\n",
    "optim = keras.optimizers.Adam(LR)\n",
    "loss = keras.losses.categorical_crossentropy\n",
    "metrics = [sm.metrics.IOUScore(threshold=0.5), sm.metrics.FScore(threshold=0.5)]"
   ]
  },
  {
   "cell_type": "code",
   "execution_count": null,
   "metadata": {
    "colab": {
     "base_uri": "https://localhost:8080/"
    },
    "gather": {
     "logged": 1667880060538
    },
    "id": "5ZsJPotrbC14",
    "outputId": "09a29769-f473-4598-9dfb-cfe87c954675"
   },
   "outputs": [],
   "source": [
    "focal_loss = sm.losses.BinaryFocalLoss() if N_CLASSES == 1 else sm.losses.CategoricalFocalLoss()"
   ]
  },
  {
   "cell_type": "code",
   "execution_count": null,
   "metadata": {
    "gather": {
     "logged": 1667880066919
    }
   },
   "outputs": [],
   "source": [
    "model = models.att_unet_2d((256, 256, 1), filter_num=[64, 128, 256, 512, 1024], n_labels=5, stack_num_down=2, stack_num_up=2, activation='ReLU', \n",
    "                atten_activation='ReLU', attention='multiply', output_activation='Softmax', batch_norm=False, pool=True, unpool=True, \n",
    "                backbone=None, weights=None, freeze_backbone=False, freeze_batch_norm=True, name='attunet')\n",
    "model.compile(loss=keras.losses.categorical_crossentropy, optimizer=optim, metrics =[tf.keras.metrics.MeanIoU(num_classes=5), sm.metrics.IOUScore(threshold=0.5), sm.metrics.FScore(threshold=0.5)])"
   ]
  },
  {
   "cell_type": "code",
   "execution_count": null,
   "metadata": {},
   "outputs": [],
   "source": [
    "# UNET Montecarlo Dropout\n",
    "\n",
    "model = mc_unet_model(n_classes=5, IMG_HEIGHT=256, IMG_WIDTH=256, IMG_CHANNELS=1)\n",
    "model.compile(loss=keras.losses.categorical_crossentropy, optimizer=optim, metrics = metrics)\n",
    "name = 'mc_unet_model'\n",
    "folder = 'MC_COMPARISON/UNET'\n",
    "# model.summary()"
   ]
  },
  {
   "cell_type": "code",
   "execution_count": null,
   "metadata": {},
   "outputs": [],
   "source": [
    "# UNET\n",
    "\n",
    "model = unet_model(n_classes=5, IMG_HEIGHT=256, IMG_WIDTH=256, IMG_CHANNELS=1)\n",
    "model.compile(loss=keras.losses.categorical_crossentropy, optimizer=optim, metrics = metrics)\n",
    "name = 'unet_model'\n",
    "folder = 'MC_COMPARISON/UNET'\n",
    "# model.summary()"
   ]
  },
  {
   "cell_type": "code",
   "execution_count": null,
   "metadata": {},
   "outputs": [],
   "source": [
    "# ATTN UNET PYRAMIDAL\n",
    "model = att_unet(img_h=256, img_w=256, img_ch=1, n_label=5, data_format='channels_last')\n",
    "model.compile(loss=keras.losses.categorical_crossentropy, optimizer=optim, metrics = metrics)\n",
    "name = 'fpa_unet_model'\n",
    "folder = 'FPA'\n",
    "# model.summary()"
   ]
  },
  {
   "cell_type": "code",
   "execution_count": null,
   "metadata": {},
   "outputs": [],
   "source": [
    "# ATTN UNET \n",
    "model = att_unet_org(img_h=256, img_w=256, img_ch=1, n_label=5, data_format='channels_last')\n",
    "model.compile(loss=keras.losses.categorical_crossentropy, optimizer=optim, metrics = metrics)\n",
    "name = 'attn_unet_model'\n",
    "folder = 'MC_COMPARISON/ATTN'\n",
    "# model.summary()"
   ]
  },
  {
   "cell_type": "code",
   "execution_count": null,
   "metadata": {},
   "outputs": [],
   "source": [
    "# MC ATTN UNET \n",
    "model = mc_att_unet(img_h=256, img_w=256, img_ch=1, n_label=5, data_format='channels_last')\n",
    "model.compile(loss=keras.losses.categorical_crossentropy, optimizer=optim, metrics = metrics)\n",
    "name = 'mc_attn_unet_model'\n",
    "folder = 'MC_COMPARISON/ATTN'\n",
    "# model.summary()"
   ]
  },
  {
   "cell_type": "code",
   "execution_count": null,
   "metadata": {},
   "outputs": [],
   "source": [
    "# Dense UNet \n",
    "model = dense_unet(input_shape=(256, 256, 1), num_classes=5)\n",
    "model.compile(loss=keras.losses.categorical_crossentropy, optimizer=optim, metrics = metrics)\n",
    "name = 'dense_unet_model'\n",
    "folder = 'MC_COMPARISON/DenseUNet'"
   ]
  },
  {
   "cell_type": "code",
   "execution_count": null,
   "metadata": {},
   "outputs": [],
   "source": [
    "# MC Dense UNet \n",
    "model = mc_dense_unet(input_shape=(256, 256, 1), num_classes=5)\n",
    "model.compile(loss=keras.losses.categorical_crossentropy, optimizer=optim, metrics = metrics)\n",
    "name = 'mc_dense_unet_model'\n",
    "folder = 'MC_COMPARISON/DenseUNet'"
   ]
  },
  {
   "cell_type": "code",
   "execution_count": null,
   "metadata": {},
   "outputs": [],
   "source": [
    "# Attn Dense UNet \n",
    "model = attn_dense_unet(input_shape=(256, 256, 1), num_classes=5)\n",
    "model.compile(loss=keras.losses.categorical_crossentropy, optimizer=optim, metrics = metrics)\n",
    "name = 'attn_dense_unet_model'\n",
    "folder = 'MC_COMPARISON/AttnDenseUNet'"
   ]
  },
  {
   "cell_type": "code",
   "execution_count": 16,
   "metadata": {},
   "outputs": [],
   "source": [
    "# MC Attn Dense UNet \n",
    "model = mc_attn_dense_unet(input_shape=(256, 256, 1), num_classes=5)\n",
    "model.compile(loss=keras.losses.categorical_crossentropy, optimizer=optim, metrics = metrics)\n",
    "name = 'mc_attn_dense_unet_model'\n",
    "folder = 'MC_COMPARISON/AttnDenseUNet'"
   ]
  },
  {
   "cell_type": "code",
   "execution_count": 17,
   "metadata": {},
   "outputs": [],
   "source": [
    "if not os.path.exists(folder):\n",
    "    os.makedirs(folder)\n",
    "\n",
    "# Callbacks\n",
    "es = keras.callbacks.EarlyStopping(monitor='val_loss', mode='min', verbose=1, \n",
    "                                   patience=10, restore_best_weights=True)\n",
    "log_dir =\"logs/unet/fit/\" + name+ '_' + datetime.datetime.now().strftime(\"%Y%m%d-%H%M%S\")\n",
    "tensorboard_callback = keras.callbacks.TensorBoard(log_dir=log_dir, histogram_freq=1)\n",
    "callbacks= [es, tensorboard_callback, keras.callbacks.ModelCheckpoint(\n",
    "                    filepath=(f'{folder}/{name}_best.hdf5'),\n",
    "                    monitor='val_loss', save_best_only=True, mode='min')],"
   ]
  },
  {
   "cell_type": "markdown",
   "metadata": {
    "id": "r3XczquleugH",
    "tags": []
   },
   "source": [
    "## Train"
   ]
  },
  {
   "cell_type": "code",
   "execution_count": null,
   "metadata": {},
   "outputs": [
    {
     "name": "stdout",
     "output_type": "stream",
     "text": [
      "Epoch 1/100\n",
      "159/262 [=================>............] - ETA: 16s - loss: 0.1937 - iou_score: 0.3033 - f1-score: 0.3082"
     ]
    }
   ],
   "source": [
    "#Training\n",
    "history = model.fit(\n",
    "    train, \n",
    "    epochs=EPOCHS, \n",
    "    callbacks=callbacks,\n",
    "    validation_data=test)\n",
    "\n",
    "# Generate generalization metrics\n",
    "scores = model.evaluate(test, verbose=0)\n",
    "print(f'Scores: {model.metrics_names[0]} of {scores[0]}; {model.metrics_names[1]} of {scores[1]};\\\n",
    "      {model.metrics_names[2]} of {scores[2]}')\n",
    "\n",
    "### Send notification to iPhone ###\n",
    "notif = requests.post(url=url_notif)\n",
    "\n",
    "# serialize model to json\n",
    "json_model = model.to_json()#save the model architecture to JSON file\n",
    "with open(f'{folder}/{name}.json', 'w') as json_file:\n",
    "    json_file.write(json_model)\n",
    "    \n",
    "model.save(f'{folder}/{name}.h5')\n",
    "!sudo shutdown -h now\n"
   ]
  },
  {
   "cell_type": "markdown",
   "metadata": {},
   "source": [
    "## Load Model"
   ]
  },
  {
   "cell_type": "code",
   "execution_count": 22,
   "metadata": {},
   "outputs": [],
   "source": [
    "import json\n",
    "from tensorflow.keras.models import load_model, model_from_json\n",
    "import segmentation_models as sm\n",
    "# from mcdropout import MCDropout\n",
    "from tensorflow.keras.layers import Dropout\n",
    "name = 'unet_model'\n",
    "folder = 'unet/'\n",
    "with open(f'{folder}/{name}.json', 'r') as json_file:\n",
    "    model = model_from_json(json_file.read(), custom_objects={\"iou_score\": sm.metrics.IOUScore(threshold=0.5),\n",
    "                                                        \"f1-score\": sm.metrics.FScore(threshold=0.5), \n",
    "                                                        })\n",
    "    \n",
    "\n",
    "\n",
    "model.load_weights(f'{folder}/{name}.h5')\n",
    "model.compile(optim, loss, metrics)"
   ]
  },
  {
   "attachments": {},
   "cell_type": "markdown",
   "metadata": {},
   "source": [
    "## Evaluation"
   ]
  },
  {
   "cell_type": "code",
   "execution_count": 23,
   "metadata": {},
   "outputs": [
    {
     "name": "stdout",
     "output_type": "stream",
     "text": [
      "31/31 [==============================] - 26s 821ms/step - loss: 0.1947 - iou_score: 0.4913 - f1-score: 0.5465\n"
     ]
    }
   ],
   "source": [
    "result = model.evaluate(test)"
   ]
  }
 ],
 "metadata": {
  "accelerator": "GPU",
  "colab": {
   "collapsed_sections": [
    "J5P7MvjZe0xq",
    "U9GHi1xVd-mB"
   ],
   "provenance": []
  },
  "environment": {
   "kernel": "python3",
   "name": "tf2-gpu.2-10.m100",
   "type": "gcloud",
   "uri": "gcr.io/deeplearning-platform-release/tf2-gpu.2-10:m100"
  },
  "gpuClass": "standard",
  "kernel_info": {
   "name": "python3"
  },
  "kernelspec": {
   "display_name": "ATTN_UNET_GPU",
   "language": "python",
   "name": "python3"
  },
  "language_info": {
   "codemirror_mode": {
    "name": "ipython",
    "version": 3
   },
   "file_extension": ".py",
   "mimetype": "text/x-python",
   "name": "python",
   "nbconvert_exporter": "python",
   "pygments_lexer": "ipython3",
   "version": "3.9.12"
  },
  "nteract": {
   "version": "nteract-front-end@1.0.0"
  },
  "vscode": {
   "interpreter": {
    "hash": "801a46adaf0f91e4b72efe7cceec577528300cdcc28ac647c0ad1dfb3c10e24a"
   }
  }
 },
 "nbformat": 4,
 "nbformat_minor": 4
}
