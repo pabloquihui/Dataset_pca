{
 "cells": [
  {
   "cell_type": "markdown",
   "metadata": {
    "id": "J5P7MvjZe0xq"
   },
   "source": [
    "## Libraries"
   ]
  },
  {
   "cell_type": "code",
   "execution_count": 5,
   "metadata": {
    "gather": {
     "logged": 1667880040755
    },
    "id": "LI_XRK4ta24w"
   },
   "outputs": [],
   "source": [
    "import os\n",
    "from keras_unet_collection import models, utils\n",
    "import tensorflow as tf\n",
    "import cv2\n",
    "import keras\n",
    "import segmentation_models as sm\n",
    "import numpy as np\n",
    "import matplotlib.pyplot as plt\n",
    "from UQ_models.attn_multi_model import r2_unet, mc_att_unet\n",
    "from UQ_models.attn_multi_model import att_unet as att_unet_org\n",
    "from UQ_models.att_dense_unet import attn_dense_unet, mc_attn_dense_unet\n",
    "from UQ_models.unet_MC import multi_unet_model as mc_unet_model\n",
    "from UQ_models.unet import unet_model\n",
    "from UQ_models.Dense_UNet import mc_dense_unet, dense_unet\n",
    "from UQ_models.att_fpa import att_unet\n",
    "import gdown\n",
    "import datetime\n",
    "from sklearn.model_selection import StratifiedKFold\n",
    "import pandas as pd\n",
    "import requests\n",
    "# Notifications config:\n",
    "url_notif = 'https://api.pushcut.io/nijldnK5Ud5uQXRJI0v_G/notifications/Training%20ended'\n",
    "AUTOTUNE = tf.data.experimental.AUTOTUNE"
   ]
  },
  {
   "cell_type": "code",
   "execution_count": 6,
   "metadata": {
    "colab": {
     "base_uri": "https://localhost:8080/",
     "height": 35
    },
    "gather": {
     "logged": 1667880044572
    },
    "id": "-W1HmnMUddHg",
    "outputId": "a117051e-71bc-496d-9a4f-d5c4a7b086ac"
   },
   "outputs": [
    {
     "data": {
      "text/plain": [
       "'2.8.0'"
      ]
     },
     "execution_count": 6,
     "metadata": {},
     "output_type": "execute_result"
    }
   ],
   "source": [
    "tf.__version__"
   ]
  },
  {
   "cell_type": "code",
   "execution_count": 7,
   "metadata": {
    "gather": {
     "logged": 1667880070178
    },
    "id": "ZpQjDRvjba_g"
   },
   "outputs": [],
   "source": [
    "df_final = pd.DataFrame()\n",
    "\n",
    "# if not os.path.exists('logs'):\n",
    "#     os.makedirs('logs')\n",
    "# if not os.path.exists('images/plots'):\n",
    "#     os.makedirs('images/plots')\n",
    "# if not os.path.exists('weights'):\n",
    "#     os.makedirs('weights')\n"
   ]
  },
  {
   "cell_type": "markdown",
   "metadata": {
    "id": "U9GHi1xVd-mB"
   },
   "source": [
    "## Dataset"
   ]
  },
  {
   "cell_type": "code",
   "execution_count": 9,
   "metadata": {
    "gather": {
     "logged": 1667880047006
    }
   },
   "outputs": [],
   "source": [
    "import os\n",
    "main = os.getcwd()"
   ]
  },
  {
   "cell_type": "code",
   "execution_count": 10,
   "metadata": {
    "gather": {
     "logged": 1667880048352
    },
    "id": "m7JlutNqcSiW"
   },
   "outputs": [
    {
     "ename": "AttributeError",
     "evalue": "type object 'DatasetV2' has no attribute 'load'",
     "output_type": "error",
     "traceback": [
      "\u001b[1;31m---------------------------------------------------------------------------\u001b[0m",
      "\u001b[1;31mAttributeError\u001b[0m                            Traceback (most recent call last)",
      "\u001b[1;32me:\\pca_seg\\UQ.ipynb Cell 7\u001b[0m in \u001b[0;36m<cell line: 1>\u001b[1;34m()\u001b[0m\n\u001b[1;32m----> <a href='vscode-notebook-cell:/e%3A/pca_seg/UQ.ipynb#W6sZmlsZQ%3D%3D?line=0'>1</a>\u001b[0m train \u001b[39m=\u001b[39m tf\u001b[39m.\u001b[39;49mdata\u001b[39m.\u001b[39;49mDataset\u001b[39m.\u001b[39;49mload(main\u001b[39m+\u001b[39m\u001b[39m'\u001b[39m\u001b[39m/dataset_tensor/train/\u001b[39m\u001b[39m'\u001b[39m)\n\u001b[0;32m      <a href='vscode-notebook-cell:/e%3A/pca_seg/UQ.ipynb#W6sZmlsZQ%3D%3D?line=1'>2</a>\u001b[0m test \u001b[39m=\u001b[39m tf\u001b[39m.\u001b[39mdata\u001b[39m.\u001b[39mDataset\u001b[39m.\u001b[39mload(main\u001b[39m+\u001b[39m\u001b[39m'\u001b[39m\u001b[39m/dataset_tensor/test/\u001b[39m\u001b[39m'\u001b[39m)\n\u001b[0;32m      <a href='vscode-notebook-cell:/e%3A/pca_seg/UQ.ipynb#W6sZmlsZQ%3D%3D?line=2'>3</a>\u001b[0m val \u001b[39m=\u001b[39m tf\u001b[39m.\u001b[39mdata\u001b[39m.\u001b[39mDataset\u001b[39m.\u001b[39mload(main\u001b[39m+\u001b[39m\u001b[39m'\u001b[39m\u001b[39m/dataset_tensor/val/\u001b[39m\u001b[39m'\u001b[39m)\n",
      "\u001b[1;31mAttributeError\u001b[0m: type object 'DatasetV2' has no attribute 'load'"
     ]
    }
   ],
   "source": [
    "train = tf.data.Dataset.load(main+'/dataset_tensor/train/')\n",
    "test = tf.data.Dataset.load(main+'/dataset_tensor/test/')\n",
    "val = tf.data.Dataset.load(main+'/dataset_tensor/val/')\n",
    "dataset_train= train.concatenate(val)\n",
    "dataset = dataset_train.concatenate(test)"
   ]
  },
  {
   "cell_type": "code",
   "execution_count": 7,
   "metadata": {},
   "outputs": [
    {
     "data": {
      "text/plain": [
       "349"
      ]
     },
     "execution_count": 7,
     "metadata": {},
     "output_type": "execute_result"
    }
   ],
   "source": [
    "test_len = len(test)\n",
    "test_len"
   ]
  },
  {
   "cell_type": "code",
   "execution_count": 8,
   "metadata": {},
   "outputs": [],
   "source": [
    "del train, val"
   ]
  },
  {
   "cell_type": "code",
   "execution_count": 9,
   "metadata": {
    "gather": {
     "logged": 1667880050498
    },
    "id": "hZPT1k86d_pc"
   },
   "outputs": [],
   "source": [
    "IMG_W = 256\n",
    "IMG_H = 256\n",
    "IMG_CH = 1\n",
    "N_CLASSES = 5\n",
    "def process(path1, path2):  \n",
    "    img=tf.io.read_file(path1)\n",
    "    img=tf.image.decode_jpeg(img, channels=1)\n",
    "    img=tf.image.resize(img,[IMG_W,IMG_H])\n",
    "    img = tf.math.l2_normalize(img, axis=1)\n",
    "    # img = tf.squeeze(img)\n",
    "\n",
    "    msk = tf.io.read_file(path2)\n",
    "    msk=tf.image.decode_png(msk)\n",
    "    msk=tf.image.resize(msk,[IMG_W,IMG_H])\n",
    "    msk = tf.squeeze(msk)\n",
    "    msk = tf.cast(msk, tf.int32)\n",
    "    msk = tf.one_hot(indices=msk, depth=N_CLASSES, axis=-1)\n",
    "    \n",
    "    img.set_shape([256,256,1])\n",
    "    msk.set_shape([256,256,5])\n",
    "\n",
    "    return img, msk"
   ]
  },
  {
   "cell_type": "code",
   "execution_count": 10,
   "metadata": {},
   "outputs": [],
   "source": [
    "AUTOTUNE = tf.data.experimental.AUTOTUNE\n",
    "test = test.map(process, num_parallel_calls=AUTOTUNE)\n",
    "dataset_train = dataset_train.map(process, num_parallel_calls=AUTOTUNE)"
   ]
  },
  {
   "cell_type": "code",
   "execution_count": 11,
   "metadata": {},
   "outputs": [],
   "source": [
    "BATCH_SIZE = 12\n",
    "\n",
    "test = test.cache()\n",
    "test = test.batch(BATCH_SIZE)\n",
    "test = test.prefetch(AUTOTUNE)\n",
    "\n",
    "train = dataset_train.cache()\n",
    "train = train.batch(BATCH_SIZE)\n",
    "train = train.prefetch(AUTOTUNE)"
   ]
  },
  {
   "cell_type": "markdown",
   "metadata": {
    "id": "3VHB66jieEEn"
   },
   "source": [
    "## Model"
   ]
  },
  {
   "cell_type": "markdown",
   "metadata": {},
   "source": [
    "### Parameters"
   ]
  },
  {
   "cell_type": "code",
   "execution_count": 12,
   "metadata": {},
   "outputs": [],
   "source": [
    "LR = 0.0001\n",
    "EPOCHS = 100\n",
    "optim = keras.optimizers.Adam(LR)\n",
    "loss = keras.losses.categorical_crossentropy\n",
    "metrics = [sm.metrics.IOUScore(threshold=0.5), sm.metrics.FScore(threshold=0.5)]"
   ]
  },
  {
   "cell_type": "code",
   "execution_count": null,
   "metadata": {
    "colab": {
     "base_uri": "https://localhost:8080/"
    },
    "gather": {
     "logged": 1667880060538
    },
    "id": "5ZsJPotrbC14",
    "outputId": "09a29769-f473-4598-9dfb-cfe87c954675"
   },
   "outputs": [],
   "source": [
    "focal_loss = sm.losses.BinaryFocalLoss() if N_CLASSES == 1 else sm.losses.CategoricalFocalLoss()"
   ]
  },
  {
   "cell_type": "code",
   "execution_count": null,
   "metadata": {
    "gather": {
     "logged": 1667880066919
    }
   },
   "outputs": [],
   "source": [
    "model = models.att_unet_2d((256, 256, 1), filter_num=[64, 128, 256, 512, 1024], n_labels=5, stack_num_down=2, stack_num_up=2, activation='ReLU', \n",
    "                atten_activation='ReLU', attention='multiply', output_activation='Softmax', batch_norm=False, pool=True, unpool=True, \n",
    "                backbone=None, weights=None, freeze_backbone=False, freeze_batch_norm=True, name='attunet')\n",
    "model.compile(loss=keras.losses.categorical_crossentropy, optimizer=optim, metrics =[tf.keras.metrics.MeanIoU(num_classes=5), sm.metrics.IOUScore(threshold=0.5), sm.metrics.FScore(threshold=0.5)])"
   ]
  },
  {
   "cell_type": "code",
   "execution_count": null,
   "metadata": {},
   "outputs": [],
   "source": [
    "# UNET Montecarlo Dropout\n",
    "\n",
    "model = mc_unet_model(n_classes=5, IMG_HEIGHT=256, IMG_WIDTH=256, IMG_CHANNELS=1)\n",
    "model.compile(loss=keras.losses.categorical_crossentropy, optimizer=optim, metrics = metrics)\n",
    "name = 'mc_unet_model'\n",
    "folder = 'MC_COMPARISON/UNET'\n",
    "# model.summary()"
   ]
  },
  {
   "cell_type": "code",
   "execution_count": null,
   "metadata": {},
   "outputs": [],
   "source": [
    "# UNET\n",
    "\n",
    "model = unet_model(n_classes=5, IMG_HEIGHT=256, IMG_WIDTH=256, IMG_CHANNELS=1)\n",
    "model.compile(loss=keras.losses.categorical_crossentropy, optimizer=optim, metrics = metrics)\n",
    "name = 'unet_model'\n",
    "folder = 'MC_COMPARISON/UNET'\n",
    "# model.summary()"
   ]
  },
  {
   "cell_type": "code",
   "execution_count": null,
   "metadata": {},
   "outputs": [],
   "source": [
    "# ATTN UNET PYRAMIDAL\n",
    "model = att_unet(img_h=256, img_w=256, img_ch=1, n_label=5, data_format='channels_last')\n",
    "model.compile(loss=keras.losses.categorical_crossentropy, optimizer=optim, metrics = metrics)\n",
    "name = 'fpa_unet_model'\n",
    "folder = 'FPA'\n",
    "# model.summary()"
   ]
  },
  {
   "cell_type": "code",
   "execution_count": null,
   "metadata": {},
   "outputs": [],
   "source": [
    "# ATTN UNET \n",
    "model = att_unet_org(img_h=256, img_w=256, img_ch=1, n_label=5, data_format='channels_last')\n",
    "model.compile(loss=keras.losses.categorical_crossentropy, optimizer=optim, metrics = metrics)\n",
    "name = 'attn_unet_model'\n",
    "folder = 'MC_COMPARISON/ATTN'\n",
    "# model.summary()"
   ]
  },
  {
   "cell_type": "code",
   "execution_count": null,
   "metadata": {},
   "outputs": [],
   "source": [
    "# MC ATTN UNET \n",
    "model = mc_att_unet(img_h=256, img_w=256, img_ch=1, n_label=5, data_format='channels_last')\n",
    "model.compile(loss=keras.losses.categorical_crossentropy, optimizer=optim, metrics = metrics)\n",
    "name = 'mc_attn_unet_model'\n",
    "folder = 'MC_COMPARISON/ATTN'\n",
    "# model.summary()"
   ]
  },
  {
   "cell_type": "code",
   "execution_count": null,
   "metadata": {},
   "outputs": [],
   "source": [
    "# Dense UNet \n",
    "model = dense_unet(input_shape=(256, 256, 1), num_classes=5)\n",
    "model.compile(loss=keras.losses.categorical_crossentropy, optimizer=optim, metrics = metrics)\n",
    "name = 'dense_unet_model'\n",
    "folder = 'MC_COMPARISON/DenseUNet'"
   ]
  },
  {
   "cell_type": "code",
   "execution_count": null,
   "metadata": {},
   "outputs": [],
   "source": [
    "# MC Dense UNet \n",
    "model = mc_dense_unet(input_shape=(256, 256, 1), num_classes=5)\n",
    "model.compile(loss=keras.losses.categorical_crossentropy, optimizer=optim, metrics = metrics)\n",
    "name = 'mc_dense_unet_model'\n",
    "folder = 'MC_COMPARISON/DenseUNet'"
   ]
  },
  {
   "cell_type": "code",
   "execution_count": null,
   "metadata": {},
   "outputs": [],
   "source": [
    "# Attn Dense UNet \n",
    "model = attn_dense_unet(input_shape=(256, 256, 1), num_classes=5)\n",
    "model.compile(loss=keras.losses.categorical_crossentropy, optimizer=optim, metrics = metrics)\n",
    "name = 'attn_dense_unet_model'\n",
    "folder = 'MC_COMPARISON/AttnDenseUNet'"
   ]
  },
  {
   "cell_type": "code",
   "execution_count": 16,
   "metadata": {},
   "outputs": [],
   "source": [
    "# MC Attn Dense UNet \n",
    "model = mc_attn_dense_unet(input_shape=(256, 256, 1), num_classes=5)\n",
    "model.compile(loss=keras.losses.categorical_crossentropy, optimizer=optim, metrics = metrics)\n",
    "name = 'mc_attn_dense_unet_model'\n",
    "folder = 'MC_COMPARISON/AttnDenseUNet'"
   ]
  },
  {
   "cell_type": "code",
   "execution_count": 17,
   "metadata": {},
   "outputs": [],
   "source": [
    "if not os.path.exists(folder):\n",
    "    os.makedirs(folder)\n",
    "\n",
    "# Callbacks\n",
    "es = keras.callbacks.EarlyStopping(monitor='val_loss', mode='min', verbose=1, \n",
    "                                   patience=10, restore_best_weights=True)\n",
    "log_dir =\"logs/unet/fit/\" + name+ '_' + datetime.datetime.now().strftime(\"%Y%m%d-%H%M%S\")\n",
    "tensorboard_callback = keras.callbacks.TensorBoard(log_dir=log_dir, histogram_freq=1)\n",
    "callbacks= [es, tensorboard_callback, keras.callbacks.ModelCheckpoint(\n",
    "                    filepath=(f'{folder}/{name}_best.hdf5'),\n",
    "                    monitor='val_loss', save_best_only=True, mode='min')],"
   ]
  },
  {
   "cell_type": "markdown",
   "metadata": {
    "id": "r3XczquleugH",
    "tags": []
   },
   "source": [
    "## Train"
   ]
  },
  {
   "cell_type": "code",
   "execution_count": null,
   "metadata": {},
   "outputs": [
    {
     "name": "stdout",
     "output_type": "stream",
     "text": [
      "Epoch 1/100\n",
      "159/262 [=================>............] - ETA: 16s - loss: 0.1937 - iou_score: 0.3033 - f1-score: 0.3082"
     ]
    }
   ],
   "source": [
    "#Training\n",
    "history = model.fit(\n",
    "    train, \n",
    "    epochs=EPOCHS, \n",
    "    callbacks=callbacks,\n",
    "    validation_data=test)\n",
    "\n",
    "# Generate generalization metrics\n",
    "scores = model.evaluate(test, verbose=0)\n",
    "print(f'Scores: {model.metrics_names[0]} of {scores[0]}; {model.metrics_names[1]} of {scores[1]};\\\n",
    "      {model.metrics_names[2]} of {scores[2]}')\n",
    "\n",
    "### Send notification to iPhone ###\n",
    "notif = requests.post(url=url_notif)\n",
    "\n",
    "# serialize model to json\n",
    "json_model = model.to_json()#save the model architecture to JSON file\n",
    "with open(f'{folder}/{name}.json', 'w') as json_file:\n",
    "    json_file.write(json_model)\n",
    "    \n",
    "model.save(f'{folder}/{name}.h5')\n",
    "!sudo shutdown -h now\n"
   ]
  },
  {
   "cell_type": "code",
   "execution_count": null,
   "metadata": {},
   "outputs": [],
   "source": [
    "# !sudo shutdown -h now"
   ]
  },
  {
   "cell_type": "markdown",
   "metadata": {},
   "source": [
    "# Uncertainty "
   ]
  },
  {
   "cell_type": "code",
   "execution_count": 13,
   "metadata": {},
   "outputs": [],
   "source": [
    "df_final = pd.DataFrame()"
   ]
  },
  {
   "cell_type": "code",
   "execution_count": 63,
   "metadata": {},
   "outputs": [],
   "source": [
    "df_entropy = pd.DataFrame()"
   ]
  },
  {
   "cell_type": "code",
   "execution_count": 23,
   "metadata": {},
   "outputs": [],
   "source": [
    "df_final = pd.read_csv('MC_COMPARISON/metrics_T50.csv')  "
   ]
  },
  {
   "cell_type": "markdown",
   "metadata": {},
   "source": [
    "## Load Model"
   ]
  },
  {
   "cell_type": "code",
   "execution_count": 25,
   "metadata": {},
   "outputs": [],
   "source": [
    "import json\n",
    "from tensorflow.keras.models import load_model, model_from_json\n",
    "import segmentation_models as sm\n",
    "from mcdropout import MCDropout\n",
    "from tensorflow.keras.layers import Dropout\n",
    "name = 'mc_attn_unet_model'\n",
    "folder = 'MC_COMPARISON/ATTN/'\n",
    "with open(f'{folder}/{name}.json', 'r') as json_file:\n",
    "    model = model_from_json(json_file.read(), custom_objects={\"iou_score\": sm.metrics.IOUScore(threshold=0.5),\n",
    "                                                        \"f1-score\": sm.metrics.FScore(threshold=0.5), \n",
    "                                                        \"MCDropout\": MCDropout(Dropout)})\n",
    "    \n",
    "\n",
    "\n",
    "model.load_weights(f'{folder}/{name}.h5')\n",
    "model.compile(optim, loss, metrics)"
   ]
  },
  {
   "cell_type": "markdown",
   "metadata": {
    "jp-MarkdownHeadingCollapsed": true,
    "tags": []
   },
   "source": [
    "## Evaluate 'T' times"
   ]
  },
  {
   "cell_type": "code",
   "execution_count": 15,
   "metadata": {},
   "outputs": [],
   "source": [
    "from tqdm import tqdm"
   ]
  },
  {
   "cell_type": "code",
   "execution_count": 24,
   "metadata": {},
   "outputs": [
    {
     "name": "stderr",
     "output_type": "stream",
     "text": [
      "100%|██████████| 50/50 [01:01<00:00,  1.23s/it]\n"
     ]
    }
   ],
   "source": [
    "losses = []\n",
    "ious = []\n",
    "f1s = []\n",
    "T = 50\n",
    "for i in tqdm(range(T)):\n",
    "    scores = model.evaluate(test, verbose = 0)\n",
    "    losses.append(scores[0])\n",
    "    ious.append(scores[1])\n",
    "    f1s.append(scores[2])\n",
    "mean_loss = np.mean(losses)\n",
    "mean_iou = np.mean(ious)\n",
    "mean_f1 = np.mean(f1s)\n"
   ]
  },
  {
   "cell_type": "code",
   "execution_count": 25,
   "metadata": {},
   "outputs": [
    {
     "data": {
      "text/html": [
       "<div>\n",
       "<style scoped>\n",
       "    .dataframe tbody tr th:only-of-type {\n",
       "        vertical-align: middle;\n",
       "    }\n",
       "\n",
       "    .dataframe tbody tr th {\n",
       "        vertical-align: top;\n",
       "    }\n",
       "\n",
       "    .dataframe thead th {\n",
       "        text-align: right;\n",
       "    }\n",
       "</style>\n",
       "<table border=\"1\" class=\"dataframe\">\n",
       "  <thead>\n",
       "    <tr style=\"text-align: right;\">\n",
       "      <th></th>\n",
       "      <th>model</th>\n",
       "      <th>iou</th>\n",
       "      <th>f1</th>\n",
       "      <th>loss</th>\n",
       "    </tr>\n",
       "  </thead>\n",
       "  <tbody>\n",
       "    <tr>\n",
       "      <th>0</th>\n",
       "      <td>UNet</td>\n",
       "      <td>0.616940</td>\n",
       "      <td>0.694878</td>\n",
       "      <td>0.015129</td>\n",
       "    </tr>\n",
       "    <tr>\n",
       "      <th>1</th>\n",
       "      <td>Attention-UNet</td>\n",
       "      <td>0.701022</td>\n",
       "      <td>0.777807</td>\n",
       "      <td>0.014420</td>\n",
       "    </tr>\n",
       "    <tr>\n",
       "      <th>2</th>\n",
       "      <td>Dense-UNet</td>\n",
       "      <td>0.732276</td>\n",
       "      <td>0.805393</td>\n",
       "      <td>0.013867</td>\n",
       "    </tr>\n",
       "    <tr>\n",
       "      <th>3</th>\n",
       "      <td>Attention-Dense-UNet</td>\n",
       "      <td>0.722363</td>\n",
       "      <td>0.795627</td>\n",
       "      <td>0.013470</td>\n",
       "    </tr>\n",
       "    <tr>\n",
       "      <th>4</th>\n",
       "      <td>mc_attn_dense_unet_model</td>\n",
       "      <td>0.733239</td>\n",
       "      <td>0.805721</td>\n",
       "      <td>0.013619</td>\n",
       "    </tr>\n",
       "  </tbody>\n",
       "</table>\n",
       "</div>"
      ],
      "text/plain": [
       "                      model       iou        f1      loss\n",
       "0                      UNet  0.616940  0.694878  0.015129\n",
       "1            Attention-UNet  0.701022  0.777807  0.014420\n",
       "2                Dense-UNet  0.732276  0.805393  0.013867\n",
       "3      Attention-Dense-UNet  0.722363  0.795627  0.013470\n",
       "4  mc_attn_dense_unet_model  0.733239  0.805721  0.013619"
      ]
     },
     "execution_count": 25,
     "metadata": {},
     "output_type": "execute_result"
    }
   ],
   "source": [
    "\n",
    "# Creating the first Dataframe using dictionary\n",
    "df_temp = pd.DataFrame({\"model\": [name],\n",
    "                        \"iou\":[mean_iou],\n",
    "                        \"f1\":[mean_f1],\n",
    "                        \"loss\":[mean_loss]})\n",
    " \n",
    "# for appending df2 at the end of df1\n",
    "df_final = df_final.append(df_temp, ignore_index = True)\n",
    "df_final\n"
   ]
  },
  {
   "cell_type": "code",
   "execution_count": 29,
   "metadata": {},
   "outputs": [
    {
     "data": {
      "text/html": [
       "<div>\n",
       "<style scoped>\n",
       "    .dataframe tbody tr th:only-of-type {\n",
       "        vertical-align: middle;\n",
       "    }\n",
       "\n",
       "    .dataframe tbody tr th {\n",
       "        vertical-align: top;\n",
       "    }\n",
       "\n",
       "    .dataframe thead th {\n",
       "        text-align: right;\n",
       "    }\n",
       "</style>\n",
       "<table border=\"1\" class=\"dataframe\">\n",
       "  <thead>\n",
       "    <tr style=\"text-align: right;\">\n",
       "      <th></th>\n",
       "      <th>model</th>\n",
       "      <th>iou</th>\n",
       "      <th>f1</th>\n",
       "      <th>loss</th>\n",
       "    </tr>\n",
       "  </thead>\n",
       "  <tbody>\n",
       "    <tr>\n",
       "      <th>0</th>\n",
       "      <td>UNet</td>\n",
       "      <td>0.616940</td>\n",
       "      <td>0.694878</td>\n",
       "      <td>0.015129</td>\n",
       "    </tr>\n",
       "    <tr>\n",
       "      <th>1</th>\n",
       "      <td>Attention-UNet</td>\n",
       "      <td>0.701022</td>\n",
       "      <td>0.777807</td>\n",
       "      <td>0.014420</td>\n",
       "    </tr>\n",
       "    <tr>\n",
       "      <th>2</th>\n",
       "      <td>Dense-UNet</td>\n",
       "      <td>0.732276</td>\n",
       "      <td>0.805393</td>\n",
       "      <td>0.013867</td>\n",
       "    </tr>\n",
       "    <tr>\n",
       "      <th>4</th>\n",
       "      <td>Attention-Dense-UNet</td>\n",
       "      <td>0.733239</td>\n",
       "      <td>0.805721</td>\n",
       "      <td>0.013619</td>\n",
       "    </tr>\n",
       "  </tbody>\n",
       "</table>\n",
       "</div>"
      ],
      "text/plain": [
       "                  model       iou        f1      loss\n",
       "0                  UNet  0.616940  0.694878  0.015129\n",
       "1        Attention-UNet  0.701022  0.777807  0.014420\n",
       "2            Dense-UNet  0.732276  0.805393  0.013867\n",
       "4  Attention-Dense-UNet  0.733239  0.805721  0.013619"
      ]
     },
     "execution_count": 29,
     "metadata": {},
     "output_type": "execute_result"
    }
   ],
   "source": [
    "df_final['model'] = df_final['model'].replace(['mc_unet_model'], 'UNet')\n",
    "df_final['model'] = df_final['model'].replace(['mc_attn_unet_model'], 'Attention-UNet')\n",
    "df_final['model'] = df_final['model'].replace(['mc_dense_unet_model'], 'Dense-UNet')\n",
    "df_final['model'] = df_final['model'].replace(['mc_attn_dense_unet_model'], 'Attention-Dense-UNet')"
   ]
  },
  {
   "cell_type": "code",
   "execution_count": 30,
   "metadata": {},
   "outputs": [
    {
     "data": {
      "text/html": [
       "<div>\n",
       "<style scoped>\n",
       "    .dataframe tbody tr th:only-of-type {\n",
       "        vertical-align: middle;\n",
       "    }\n",
       "\n",
       "    .dataframe tbody tr th {\n",
       "        vertical-align: top;\n",
       "    }\n",
       "\n",
       "    .dataframe thead th {\n",
       "        text-align: right;\n",
       "    }\n",
       "</style>\n",
       "<table border=\"1\" class=\"dataframe\">\n",
       "  <thead>\n",
       "    <tr style=\"text-align: right;\">\n",
       "      <th></th>\n",
       "      <th>iou</th>\n",
       "      <th>f1</th>\n",
       "      <th>loss</th>\n",
       "    </tr>\n",
       "    <tr>\n",
       "      <th>model</th>\n",
       "      <th></th>\n",
       "      <th></th>\n",
       "      <th></th>\n",
       "    </tr>\n",
       "  </thead>\n",
       "  <tbody>\n",
       "    <tr>\n",
       "      <th>UNet</th>\n",
       "      <td>0.616940</td>\n",
       "      <td>0.694878</td>\n",
       "      <td>0.015129</td>\n",
       "    </tr>\n",
       "    <tr>\n",
       "      <th>Attention-UNet</th>\n",
       "      <td>0.701022</td>\n",
       "      <td>0.777807</td>\n",
       "      <td>0.014420</td>\n",
       "    </tr>\n",
       "    <tr>\n",
       "      <th>Dense-UNet</th>\n",
       "      <td>0.732276</td>\n",
       "      <td>0.805393</td>\n",
       "      <td>0.013867</td>\n",
       "    </tr>\n",
       "    <tr>\n",
       "      <th>Attention-Dense-UNet</th>\n",
       "      <td>0.733239</td>\n",
       "      <td>0.805721</td>\n",
       "      <td>0.013619</td>\n",
       "    </tr>\n",
       "  </tbody>\n",
       "</table>\n",
       "</div>"
      ],
      "text/plain": [
       "                           iou        f1      loss\n",
       "model                                             \n",
       "UNet                  0.616940  0.694878  0.015129\n",
       "Attention-UNet        0.701022  0.777807  0.014420\n",
       "Dense-UNet            0.732276  0.805393  0.013867\n",
       "Attention-Dense-UNet  0.733239  0.805721  0.013619"
      ]
     },
     "execution_count": 30,
     "metadata": {},
     "output_type": "execute_result"
    }
   ],
   "source": [
    "df_final = df_final.set_index('model')\n",
    "df_final"
   ]
  },
  {
   "cell_type": "code",
   "execution_count": 31,
   "metadata": {},
   "outputs": [],
   "source": [
    "df_final.to_csv('MC_COMPARISON/metrics_T50.csv')"
   ]
  },
  {
   "cell_type": "markdown",
   "metadata": {
    "tags": []
   },
   "source": [
    "## Entropy"
   ]
  },
  {
   "cell_type": "code",
   "execution_count": 16,
   "metadata": {},
   "outputs": [],
   "source": [
    "def compute_entropy(predictive_prob):\n",
    "    entropy_func = lambda x: -1 * np.sum(np.log(x + np.finfo(np.float32).eps) * x, axis=3)\n",
    "    return entropy_func(predictive_prob)"
   ]
  },
  {
   "cell_type": "markdown",
   "metadata": {
    "jp-MarkdownHeadingCollapsed": true,
    "tags": []
   },
   "source": [
    "### T=1"
   ]
  },
  {
   "cell_type": "code",
   "execution_count": null,
   "metadata": {},
   "outputs": [],
   "source": [
    "T = 1\n",
    "N_class = 5\n",
    "predictive_prob_total = np.zeros((test_len, 256, 256, N_class))\n",
    "for i in range(T):\n",
    "    predictive_prob = model.predict(test, verbose=0)\n",
    "    if (type(predictive_prob) is list):# some models may return logit, segmap\n",
    "        predictive_prob = predictive_prob[1]\n",
    "    predictive_prob_total += predictive_prob\n",
    "\n",
    "pred_prob_avg_1 = predictive_prob_total / (T * 1.0)\n",
    "entropy_1 = compute_entropy(pred_prob_avg_1)\n",
    "\n",
    "test_1_argmax = np.argmax(pred_prob_avg_1, axis=3)\n"
   ]
  },
  {
   "cell_type": "markdown",
   "metadata": {
    "jp-MarkdownHeadingCollapsed": true,
    "tags": []
   },
   "source": [
    "### T=20"
   ]
  },
  {
   "cell_type": "code",
   "execution_count": null,
   "metadata": {},
   "outputs": [],
   "source": [
    "T = 20\n",
    "N_class = 5\n",
    "predictive_prob_total = np.zeros((test_len, 256, 256, N_class))\n",
    "for i in range(T):\n",
    "    predictive_prob = model.predict(test, verbose=0)\n",
    "    if (type(predictive_prob) is list):# some models may return logit, segmap\n",
    "        predictive_prob = predictive_prob[1]\n",
    "    predictive_prob_total += predictive_prob\n",
    "\n",
    "pred_prob_avg_20 = predictive_prob_total / (T * 1.0)\n",
    "entropy_20 = compute_entropy(pred_prob_avg_20)\n",
    "\n",
    "test_20_argmax = np.argmax(pred_prob_avg_20, axis=3)\n"
   ]
  },
  {
   "cell_type": "markdown",
   "metadata": {},
   "source": [
    "### T=50"
   ]
  },
  {
   "cell_type": "code",
   "execution_count": 26,
   "metadata": {},
   "outputs": [
    {
     "name": "stderr",
     "output_type": "stream",
     "text": [
      "100%|██████████| 50/50 [02:17<00:00,  2.75s/it]\n"
     ]
    }
   ],
   "source": [
    "T = 50\n",
    "N_class = 5\n",
    "predictive_prob_total = np.zeros((test_len, 256, 256, N_class))\n",
    "for i in tqdm(range(T)):\n",
    "    predictive_prob = model.predict(test, verbose=0)\n",
    "    if (type(predictive_prob) is list):# some models may return logit, segmap\n",
    "        predictive_prob = predictive_prob[1]\n",
    "    predictive_prob_total += predictive_prob\n",
    "\n",
    "entropy_whole = compute_entropy(pred_prob_avg_50)\n",
    "test_50_argmax = np.argmax(pred_prob_avg_50, axis=3)\n"
   ]
  },
  {
   "cell_type": "code",
   "execution_count": 60,
   "metadata": {},
   "outputs": [],
   "source": [
    "pred_prob_avg_all = predictive_prob_total / (T * 1.0)\n",
    "pred_prob_avg_gland = predictive_prob_total[:,:,:,1:] / (T * 1.0)\n",
    "pred_prob_avg_cz = np.expand_dims(predictive_prob_total[:,:,:,1] / (T * 1.0), axis=-1)\n",
    "pred_prob_avg_pz = np.expand_dims(predictive_prob_total[:,:,:,2] / (T * 1.0), axis=-1)\n",
    "pred_prob_avg_tz = np.expand_dims(predictive_prob_total[:,:,:,3] / (T * 1.0), axis=-1)\n",
    "pred_prob_avg_tum = np.expand_dims(predictive_prob_total[:,:,:,4] / (T * 1.0), axis=-1)\n",
    "\n",
    "entropy_all = compute_entropy(pred_prob_avg_all)\n",
    "entropy_gland = compute_entropy(pred_prob_avg_gland)\n",
    "entropy_cz = compute_entropy(pred_prob_avg_cz)\n",
    "entropy_pz = compute_entropy(pred_prob_avg_pz)\n",
    "entropy_tz = compute_entropy(pred_prob_avg_tz)\n",
    "entropy_tum = compute_entropy(pred_prob_avg_tum)\n",
    "\n",
    "test_argmax_all = np.argmax(pred_prob_avg_all, axis=3)\n",
    "test_argmax_gland = np.argmax(pred_prob_avg_gland, axis=3)\n",
    "\n",
    "test_cz = pred_prob_avg_cz[:,:,:,0]\n",
    "test_pz = pred_prob_avg_pz[:,:,:,0]\n",
    "test_tz = pred_prob_avg_tz[:,:,:,0]\n",
    "test_tum = pred_prob_avg_tum[:,:,:,0]"
   ]
  },
  {
   "cell_type": "code",
   "execution_count": 61,
   "metadata": {},
   "outputs": [
    {
     "data": {
      "text/plain": [
       "<matplotlib.image.AxesImage at 0x7f56f0725a10>"
      ]
     },
     "execution_count": 61,
     "metadata": {},
     "output_type": "execute_result"
    },
    {
     "data": {
      "image/png": "[encoded data removed]",
      "text/plain": [
       "<Figure size 640x480 with 6 Axes>"
      ]
     },
     "metadata": {},
     "output_type": "display_data"
    }
   ],
   "source": [
    "i=100\n",
    "plt.subplot(231)\n",
    "plt.title('All')\n",
    "plt.imshow(test_argmax_all[i], cmap='gray')\n",
    "plt.subplot(232)\n",
    "plt.title('Gland')\n",
    "plt.imshow(test_argmax_gland[i], cmap='gray')\n",
    "plt.subplot(233)\n",
    "plt.title('CZ')\n",
    "plt.imshow(test_cz[i], cmap='gray')\n",
    "plt.subplot(234)\n",
    "plt.title('PZ')\n",
    "plt.imshow(test_pz[i], cmap='gray')\n",
    "plt.subplot(235)\n",
    "plt.title('TZ')\n",
    "plt.imshow(test_tz[i], cmap='gray')\n",
    "plt.subplot(236)\n",
    "plt.title('Tumor')\n",
    "plt.imshow(test_tum[i], cmap='gray')"
   ]
  },
  {
   "cell_type": "code",
   "execution_count": 64,
   "metadata": {},
   "outputs": [
    {
     "data": {
      "text/html": [
       "<div>\n",
       "<style scoped>\n",
       "    .dataframe tbody tr th:only-of-type {\n",
       "        vertical-align: middle;\n",
       "    }\n",
       "\n",
       "    .dataframe tbody tr th {\n",
       "        vertical-align: top;\n",
       "    }\n",
       "\n",
       "    .dataframe thead th {\n",
       "        text-align: right;\n",
       "    }\n",
       "</style>\n",
       "<table border=\"1\" class=\"dataframe\">\n",
       "  <thead>\n",
       "    <tr style=\"text-align: right;\">\n",
       "      <th></th>\n",
       "      <th>model</th>\n",
       "      <th>all</th>\n",
       "      <th>gland</th>\n",
       "      <th>cz</th>\n",
       "      <th>pz</th>\n",
       "      <th>tz</th>\n",
       "      <th>tum</th>\n",
       "    </tr>\n",
       "  </thead>\n",
       "  <tbody>\n",
       "    <tr>\n",
       "      <th>0</th>\n",
       "      <td>mc_attn_unet_model</td>\n",
       "      <td>0.010929</td>\n",
       "      <td>0.00662</td>\n",
       "      <td>0.002118</td>\n",
       "      <td>0.002679</td>\n",
       "      <td>0.000903</td>\n",
       "      <td>0.00092</td>\n",
       "    </tr>\n",
       "  </tbody>\n",
       "</table>\n",
       "</div>"
      ],
      "text/plain": [
       "                model       all    gland        cz        pz        tz  \\\n",
       "0  mc_attn_unet_model  0.010929  0.00662  0.002118  0.002679  0.000903   \n",
       "\n",
       "       tum  \n",
       "0  0.00092  "
      ]
     },
     "execution_count": 64,
     "metadata": {},
     "output_type": "execute_result"
    }
   ],
   "source": [
    "mean_entropy_all = np.mean(entropy_all)\n",
    "mean_entropy_gland = np.mean(entropy_gland)\n",
    "mean_entropy_cz = np.mean(entropy_cz)\n",
    "mean_entropy_pz = np.mean(entropy_pz)\n",
    "mean_entropy_tz = np.mean(entropy_tz)\n",
    "mean_entropy_tum = np.mean(entropy_tum)\n",
    "\n",
    "df_temp = pd.DataFrame({\"model\": [name],\n",
    "                        \"all\":[mean_entropy_all],\n",
    "                        \"gland\":[mean_entropy_gland],\n",
    "                        \"cz\": [mean_entropy_cz],\n",
    "                        \"pz\": [mean_entropy_pz],\n",
    "                        \"tz\": [mean_entropy_tz],\n",
    "                        \"tum\": [mean_entropy_tum],})\n",
    "\n",
    "df_entropy = df_entropy.append(df_temp, ignore_index = True)\n",
    "df_entropy\n"
   ]
  },
  {
   "cell_type": "markdown",
   "metadata": {},
   "source": [
    "### Prediction Plots"
   ]
  },
  {
   "cell_type": "code",
   "execution_count": null,
   "metadata": {},
   "outputs": [],
   "source": [
    "plt.figure(dpi=200)\n",
    "plt.subplot(1,3,1)\n",
    "plt.title('One prediction')\n",
    "plt.imshow(test_1_argmax[100], cmap='jet')\n",
    "plt.subplot(1,3,2)\n",
    "plt.title('Avg of 20 predictions')\n",
    "plt.imshow(test_20_argmax[100], cmap='jet')\n",
    "plt.subplot(1,3,3)\n",
    "plt.title(f'Avg of 50 preds')\n",
    "plt.imshow(test_50_argmax[100], cmap='jet')"
   ]
  },
  {
   "cell_type": "markdown",
   "metadata": {},
   "source": [
    "### Uncertainty Map"
   ]
  },
  {
   "cell_type": "code",
   "execution_count": null,
   "metadata": {},
   "outputs": [],
   "source": [
    "plt.figure(dpi=300)\n",
    "plt.subplot(1,3,1)\n",
    "plt.title('One prediction')\n",
    "plt.imshow(entropy_1[100], cmap='jet')\n",
    "plt.subplot(1,3,2)\n",
    "plt.title('Avg of 20 predictions')\n",
    "plt.imshow(entropy_20[100], cmap='jet')\n",
    "plt.subplot(1,3,3)\n",
    "plt.title('Avg of 50 predictions')\n",
    "plt.imshow(entropy_50[100], cmap='jet')"
   ]
  },
  {
   "cell_type": "markdown",
   "metadata": {
    "tags": []
   },
   "source": [
    "# Evaluation and Testing"
   ]
  },
  {
   "cell_type": "code",
   "execution_count": null,
   "metadata": {},
   "outputs": [],
   "source": [
    "# Load weights if neccessary\n",
    "folder = 'ATTN/MC'\n",
    "name = 'mc_attn_unet_model'\n",
    "model.load_weights(f'{folder}/{name}.h5')\n"
   ]
  },
  {
   "cell_type": "code",
   "execution_count": null,
   "metadata": {},
   "outputs": [],
   "source": [
    "metrics = model.evaluate(test, verbose=1)"
   ]
  },
  {
   "cell_type": "code",
   "execution_count": null,
   "metadata": {},
   "outputs": [],
   "source": [
    "y_pred = model.predict(test)\n",
    "y_pred.shape"
   ]
  },
  {
   "cell_type": "code",
   "execution_count": null,
   "metadata": {},
   "outputs": [],
   "source": [
    "test_pred = np.argmax(y_pred, axis=3)\n",
    "test_pred.shape"
   ]
  },
  {
   "cell_type": "code",
   "execution_count": null,
   "metadata": {},
   "outputs": [],
   "source": [
    "img=[]\n",
    "msk= []\n",
    "for i in test:\n",
    "    img.append(i[0].numpy())\n",
    "    mask = np.argmax(i[1].numpy(), axis=3)\n",
    "    msk.append(mask)\n",
    "    \n",
    "img= np.array(img)\n",
    "msk= np.array(msk)\n",
    "\n",
    "test_pred.shape\n",
    "msk[27].shape"
   ]
  },
  {
   "cell_type": "code",
   "execution_count": null,
   "metadata": {},
   "outputs": [],
   "source": [
    "\n",
    "plt.figure()\n",
    "plt.subplot(131)\n",
    "plt.title('Original Image')\n",
    "plt.imshow(img[0][11], cmap='gray', interpolation='none')\n",
    "plt.tight_layout()\n",
    "plt.axis('off')\n",
    "plt.subplot(132)\n",
    "plt.title('Original Mask')\n",
    "plt.imshow(msk[0][11], cmap='gray', interpolation='none')\n",
    "plt.tight_layout()\n",
    "plt.axis('off')\n",
    "plt.subplot(133)\n",
    "plt.title('MASK PREDICTION')\n",
    "plt.imshow(test_pred[11, :, :], cmap='gray', interpolation='none')\n",
    "plt.tight_layout()\n",
    "plt.axis('off')\n",
    "# plt.savefig('mc_attunet_img_11.png')\n"
   ]
  },
  {
   "cell_type": "code",
   "execution_count": null,
   "metadata": {},
   "outputs": [],
   "source": [
    "\n",
    "tes = np.expand_dims(img[0][0], axis=0)\n",
    "# model.predict(tes)"
   ]
  },
  {
   "cell_type": "markdown",
   "metadata": {
    "id": "KbmywmePcTgL"
   },
   "source": [
    "# Entropy"
   ]
  },
  {
   "cell_type": "code",
   "execution_count": null,
   "metadata": {},
   "outputs": [],
   "source": [
    "def compute_entropy(predictive_prob):\n",
    "    entropy_func = lambda x: -1 * np.sum(np.log(x + np.finfo(np.float32).eps) * x, axis=3)\n",
    "    return entropy_func(predictive_prob)"
   ]
  },
  {
   "cell_type": "code",
   "execution_count": null,
   "metadata": {},
   "outputs": [],
   "source": [
    "T = 50\n",
    "N_class = 5\n",
    "predictive_prob_total = np.zeros((1, 256, 256, N_class))\n",
    "for i in range(T):\n",
    "    predictive_prob = model.predict(np.expand_dims(img[0][11], axis=0), verbose=0 )\n",
    "    if (type(predictive_prob) is list):# some models may return logit, segmap\n",
    "        predictive_prob = predictive_prob[1]\n",
    "\n",
    "    predictive_prob_total += predictive_prob\n",
    "\n",
    "predictive_prob_average = predictive_prob_total / (T * 1.0)\n",
    "entropy = compute_entropy(predictive_prob_average)\n",
    "entropy_bg = compute_entropy(np.expand_dims(predictive_prob_average[:,:,:,0], axis=-1))\n",
    "entropy_cz = compute_entropy(np.expand_dims(predictive_prob_average[:,:,:,1], axis=-1))\n",
    "entropy_pz = compute_entropy(np.expand_dims(predictive_prob_average[:,:,:,2], axis=-1))\n",
    "entropy_tz = compute_entropy(np.expand_dims(predictive_prob_average[:,:,:,3], axis=-1))\n",
    "entropy_tum = compute_entropy(np.expand_dims(predictive_prob_average[:,:,:,4], axis=-1))\n",
    "\n",
    "# predictive_prob_average.shape\n",
    "img_argmax = np.argmax(predictive_prob_average, axis=3)\n",
    "\n",
    "\n",
    "\n",
    "\n",
    "predictive_prob_average.shape"
   ]
  },
  {
   "cell_type": "code",
   "execution_count": null,
   "metadata": {},
   "outputs": [],
   "source": [
    "import matplotlib as mpl\n",
    "\n",
    "cmap_x = mpl.colors.ListedColormap(['blue', 'cyan', 'green', 'orange', 'brown'])\n",
    "\n",
    "plt.figure(dpi=300)\n",
    "plt.subplot(321)\n",
    "plt.title(f'Avg prediction after T={T}')\n",
    "plt.imshow(img_argmax[0], cmap='jet')\n",
    "plt.colorbar(ticks=[0,1,2,3,4])\n",
    "plt.axis('off')\n",
    "plt.tight_layout(pad=1)\n",
    "plt.subplot(322)\n",
    "plt.title(f'Uncertainty Map after T={T}')\n",
    "plt.imshow(entropy[0], cmap='jet')\n",
    "plt.axis('off')\n",
    "plt.colorbar()\n",
    "plt.tight_layout(pad=1)\n",
    "plt.subplot(323)\n",
    "plt.title(f'Uncertainty Map (CZ) T={T}')\n",
    "plt.imshow(entropy_cz[0], cmap='jet')\n",
    "plt.axis('off')\n",
    "plt.colorbar()\n",
    "plt.tight_layout(pad=1)\n",
    "plt.subplot(324)\n",
    "plt.title(f'Uncertainty Map (PZ) T={T}')\n",
    "plt.imshow(entropy_pz[0], cmap='jet')\n",
    "plt.axis('off')\n",
    "plt.colorbar()\n",
    "plt.tight_layout(pad=1)\n",
    "plt.subplot(325)\n",
    "plt.title(f'Uncertainty Map (TZ) T={T}')\n",
    "plt.imshow(entropy_tz[0], cmap='jet')\n",
    "plt.axis('off')\n",
    "plt.colorbar()\n",
    "plt.tight_layout(pad=1)\n",
    "plt.subplot(326)\n",
    "plt.title(f'Uncertainty Map (Tum) T={T}')\n",
    "plt.imshow(entropy_tum[0], cmap='jet')\n",
    "plt.axis('off')\n",
    "plt.colorbar()\n",
    "plt.tight_layout(pad=1)\n",
    "plt.savefig('uq_50.png')"
   ]
  },
  {
   "cell_type": "code",
   "execution_count": null,
   "metadata": {},
   "outputs": [],
   "source": [
    "entropy = compute_entropy(np.expand_dims(predictive_prob_average[:,:,:,4], axis=-1))\n",
    "plt.imshow(entropy[0],cmap='jet')"
   ]
  },
  {
   "cell_type": "code",
   "execution_count": null,
   "metadata": {},
   "outputs": [],
   "source": [
    "plt.imshow(entropy[0], cmap='jet')\n",
    "plt.colorbar()"
   ]
  },
  {
   "cell_type": "code",
   "execution_count": null,
   "metadata": {},
   "outputs": [],
   "source": [
    "plt.imshow(entropy[0], cmap='jet')\n",
    "plt.colorbar()"
   ]
  },
  {
   "cell_type": "code",
   "execution_count": null,
   "metadata": {},
   "outputs": [],
   "source": [
    "plt.imshow(entropy[0], cmap='jet')\n",
    "plt.colorbar()"
   ]
  },
  {
   "cell_type": "code",
   "execution_count": null,
   "metadata": {},
   "outputs": [],
   "source": []
  }
 ],
 "metadata": {
  "accelerator": "GPU",
  "colab": {
   "collapsed_sections": [
    "J5P7MvjZe0xq",
    "U9GHi1xVd-mB"
   ],
   "provenance": []
  },
  "environment": {
   "kernel": "python3",
   "name": "tf2-gpu.2-10.m100",
   "type": "gcloud",
   "uri": "gcr.io/deeplearning-platform-release/tf2-gpu.2-10:m100"
  },
  "gpuClass": "standard",
  "kernel_info": {
   "name": "python3"
  },
  "kernelspec": {
   "display_name": "Python 3.9.12 ('ATTN_UNET_GPU')",
   "language": "python",
   "name": "python3"
  },
  "language_info": {
   "codemirror_mode": {
    "name": "ipython",
    "version": 3
   },
   "file_extension": ".py",
   "mimetype": "text/x-python",
   "name": "python",
   "nbconvert_exporter": "python",
   "pygments_lexer": "ipython3",
   "version": "3.9.12"
  },
  "nteract": {
   "version": "nteract-front-end@1.0.0"
  },
  "vscode": {
   "interpreter": {
    "hash": "801a46adaf0f91e4b72efe7cceec577528300cdcc28ac647c0ad1dfb3c10e24a"
   }
  }
 },
 "nbformat": 4,
 "nbformat_minor": 4
}
